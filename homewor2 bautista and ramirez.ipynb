{
 "cells": [
  {
   "cell_type": "code",
   "execution_count": null,
   "metadata": {},
   "outputs": [],
   "source": []
  },
  {
   "cell_type": "code",
   "execution_count": null,
   "metadata": {},
   "outputs": [],
   "source": [
    "i = 0\n",
    "n = 1\n",
    "data=0\n",
    "listm = []\n",
    "summ=0\n",
    "repetir=0\n",
    "for k in range(0,5):\n",
    "    x = float(input(f\"Introduce data#{n}: \"))             \n",
    "    listm.append(x)\n",
    "    summ+=x\n",
    "    n+=1\n",
    "    data+=1\n",
    "while i < 1:\n",
    "    print(\"\\ndo you want to comtinue? 1 = yes, 0 = not\")\n",
    "    x = float(input(f\"\\nIntroduce your answer: \"))             \n",
    "    listm.append(x)\n",
    "    if x != 0:\n",
    "        for k in range(0,3):\n",
    "            x = float(input(f\"Introduce data#{n}: \"))\n",
    "            listm.append(x)\n",
    "            summ+=x\n",
    "            data+=1\n",
    "            n+=1\n",
    "    else: i+=1\n",
    "\n",
    "media=summ/data                                                                  \n",
    "\n",
    "for j in listm:                                                                          \n",
    "    aparece = listm.count(j)                                                             \n",
    "    if aparece > repetir:                                                       \n",
    "        repetir = aparece                                                       \n",
    "moda=[]                                                                              \n",
    "for j in listm:                                                                              \n",
    "    aparece = listm.count(j)                                                             \n",
    "    if aparece == repetir and j not in moda:                                   \n",
    "        moda.append(j)\n",
    "        \n",
    "lista = [(listm[p]-media)**2\n",
    "                   for p in range(len(listm))]\n",
    "suma=sum(lista)\n",
    "s2=(suma**2)/(data-1)\n",
    "s=s2\n",
    "\n",
    "r= float(input(\"if you need only one thing press:1, but you want all things press:0: \"))\n",
    "if r==0:\n",
    "    print(f\"Sample mean:{media}\")\n",
    "    print(f\"Mode:{moda}\")\n",
    "    print(f\"Standard deviation:{s}\")\n",
    "elif r==1:\n",
    "    a=int (input(\"\\nplease press 1 and you have the sample mean \\nplease press 2 and you have the mode \\nor press 3 if you want standard deviation \\nR: \"))\n",
    "    if a==1:\n",
    "        print(f\"Sample mean: {media}\")\n",
    "    elif a==2:\n",
    "        print(f\"Mode: {moda}\")\n",
    "    else:\n",
    "        print(f\"Standard deviation: {s}\")"
   ]
  },
  {
   "cell_type": "code",
   "execution_count": null,
   "metadata": {},
   "outputs": [],
   "source": []
  },
  {
   "cell_type": "code",
   "execution_count": null,
   "metadata": {},
   "outputs": [],
   "source": []
  }
 ],
 "metadata": {
  "kernelspec": {
   "display_name": "Python 3",
   "language": "python",
   "name": "python3"
  },
  "language_info": {
   "codemirror_mode": {
    "name": "ipython",
    "version": 3
   },
   "file_extension": ".py",
   "mimetype": "text/x-python",
   "name": "python",
   "nbconvert_exporter": "python",
   "pygments_lexer": "ipython3",
   "version": "3.7.3"
  }
 },
 "nbformat": 4,
 "nbformat_minor": 2
}
